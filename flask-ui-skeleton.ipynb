{
 "cells": [
  {
   "cell_type": "markdown",
   "metadata": {},
   "source": [
    "# Capstone Project Flask UI"
   ]
  },
  {
   "cell_type": "markdown",
   "metadata": {},
   "source": [
    "Pada capstone ini anda diminta untuk membangun sebuah Flask UI sederhana yang berisi beberapa tampilan plot dari skeleton yang sudah disediakan dan satu plot tambahan berdasarkan analisis anda.\n",
    "\n",
    "File ini dapat dimanfaatkan untuk membantu anda dalam proses wrangling dan visualization. Apabila proses wrangling sudah tepat dan hasil visualisasi sudah sesuai dengan ketentuan, anda dapat memindahkan kembali kode program yang sudah anda lengkapi ke dalam file `app.py`."
   ]
  },
  {
   "cell_type": "markdown",
   "metadata": {},
   "source": [
    "## Create Virtual Enviroment "
   ]
  },
  {
   "cell_type": "markdown",
   "metadata": {},
   "source": [
    "a. Created virtual environment called \"capstone-flask\"\n",
    "\n",
    "Hal pertama yang harus dilakukan adalah melakukan pengaturan environment conda. Untuk menyiapkan conda environment dan kernel, silahkan gunakan command berikut:\n",
    "\n",
    "```\n",
    "conda create -n <ENV_NAME> python=3.10\n",
    "conda activate <ENV_NAME>\n",
    "\n",
    "conda install ipykernel\n",
    "python -m ipykernel install --user --name <ENV_NAME>\n",
    "```\n",
    "\n",
    "b. Install packages: pandas, flask, matplotlib, dan numpy\n",
    "\n",
    "Seluruh dependecies telah di-export ke dalam file requirements.txt. Oleh karena itu untuk melakukan install packages, Anda dapat menggunakan perintah berikut:\n",
    "\n",
    "```\n",
    "pip install -r requirements.txt --user\n",
    "```"
   ]
  },
  {
   "cell_type": "markdown",
   "metadata": {},
   "source": [
    "## Data Preprocessing"
   ]
  },
  {
   "cell_type": "markdown",
   "metadata": {},
   "source": [
    "**Import library**"
   ]
  },
  {
   "cell_type": "code",
   "execution_count": 2,
   "metadata": {
    "ExecuteTime": {
     "end_time": "2021-02-02T09:56:05.789070Z",
     "start_time": "2021-02-02T09:56:03.554294Z"
    }
   },
   "outputs": [],
   "source": [
    "from flask import Flask, render_template\n",
    "import pandas as pd\n",
    "import numpy as np\n",
    "import matplotlib.pyplot as plt\n",
    "from io import BytesIO\n",
    "import base64"
   ]
  },
  {
   "cell_type": "code",
   "execution_count": 3,
   "metadata": {},
   "outputs": [
    {
     "name": "stdout",
     "output_type": "stream",
     "text": [
      "1.5.2\n"
     ]
    }
   ],
   "source": [
    "print(pd.__version__)"
   ]
  },
  {
   "cell_type": "markdown",
   "metadata": {},
   "source": [
    "**Load data**\n",
    "\n",
    "Bacalah file `googleplaystore.csv` data dan simpan ke objek dataframe dengan nama playstore"
   ]
  },
  {
   "cell_type": "code",
   "execution_count": 4,
   "metadata": {
    "ExecuteTime": {
     "end_time": "2021-02-02T09:59:28.086254Z",
     "start_time": "2021-02-02T09:59:28.032673Z"
    }
   },
   "outputs": [
    {
     "data": {
      "text/html": [
       "<div>\n",
       "<style scoped>\n",
       "    .dataframe tbody tr th:only-of-type {\n",
       "        vertical-align: middle;\n",
       "    }\n",
       "\n",
       "    .dataframe tbody tr th {\n",
       "        vertical-align: top;\n",
       "    }\n",
       "\n",
       "    .dataframe thead th {\n",
       "        text-align: right;\n",
       "    }\n",
       "</style>\n",
       "<table border=\"1\" class=\"dataframe\">\n",
       "  <thead>\n",
       "    <tr style=\"text-align: right;\">\n",
       "      <th></th>\n",
       "      <th>App</th>\n",
       "      <th>Category</th>\n",
       "      <th>Rating</th>\n",
       "      <th>Reviews</th>\n",
       "      <th>Size</th>\n",
       "      <th>Installs</th>\n",
       "      <th>Type</th>\n",
       "      <th>Price</th>\n",
       "      <th>Content Rating</th>\n",
       "      <th>Genres</th>\n",
       "      <th>Last Updated</th>\n",
       "      <th>Current Ver</th>\n",
       "      <th>Android Ver</th>\n",
       "    </tr>\n",
       "  </thead>\n",
       "  <tbody>\n",
       "    <tr>\n",
       "      <th>0</th>\n",
       "      <td>Photo Editor &amp; Candy Camera &amp; Grid &amp; ScrapBook</td>\n",
       "      <td>ART_AND_DESIGN</td>\n",
       "      <td>4.1</td>\n",
       "      <td>159</td>\n",
       "      <td>19M</td>\n",
       "      <td>10,000+</td>\n",
       "      <td>Free</td>\n",
       "      <td>0</td>\n",
       "      <td>Everyone</td>\n",
       "      <td>Art &amp; Design</td>\n",
       "      <td>January 7, 2018</td>\n",
       "      <td>1.0.0</td>\n",
       "      <td>4.0.3 and up</td>\n",
       "    </tr>\n",
       "    <tr>\n",
       "      <th>1</th>\n",
       "      <td>Coloring book moana</td>\n",
       "      <td>ART_AND_DESIGN</td>\n",
       "      <td>3.9</td>\n",
       "      <td>967</td>\n",
       "      <td>14M</td>\n",
       "      <td>500,000+</td>\n",
       "      <td>Free</td>\n",
       "      <td>0</td>\n",
       "      <td>Everyone</td>\n",
       "      <td>Art &amp; Design;Pretend Play</td>\n",
       "      <td>January 15, 2018</td>\n",
       "      <td>2.0.0</td>\n",
       "      <td>4.0.3 and up</td>\n",
       "    </tr>\n",
       "    <tr>\n",
       "      <th>2</th>\n",
       "      <td>U Launcher Lite – FREE Live Cool Themes, Hide ...</td>\n",
       "      <td>ART_AND_DESIGN</td>\n",
       "      <td>4.7</td>\n",
       "      <td>87510</td>\n",
       "      <td>8.7M</td>\n",
       "      <td>5,000,000+</td>\n",
       "      <td>Free</td>\n",
       "      <td>0</td>\n",
       "      <td>Everyone</td>\n",
       "      <td>Art &amp; Design</td>\n",
       "      <td>August 1, 2018</td>\n",
       "      <td>1.2.4</td>\n",
       "      <td>4.0.3 and up</td>\n",
       "    </tr>\n",
       "    <tr>\n",
       "      <th>3</th>\n",
       "      <td>Sketch - Draw &amp; Paint</td>\n",
       "      <td>ART_AND_DESIGN</td>\n",
       "      <td>4.5</td>\n",
       "      <td>215644</td>\n",
       "      <td>25M</td>\n",
       "      <td>50,000,000+</td>\n",
       "      <td>Free</td>\n",
       "      <td>0</td>\n",
       "      <td>Teen</td>\n",
       "      <td>Art &amp; Design</td>\n",
       "      <td>June 8, 2018</td>\n",
       "      <td>Varies with device</td>\n",
       "      <td>4.2 and up</td>\n",
       "    </tr>\n",
       "    <tr>\n",
       "      <th>4</th>\n",
       "      <td>Pixel Draw - Number Art Coloring Book</td>\n",
       "      <td>ART_AND_DESIGN</td>\n",
       "      <td>4.3</td>\n",
       "      <td>967</td>\n",
       "      <td>2.8M</td>\n",
       "      <td>100,000+</td>\n",
       "      <td>Free</td>\n",
       "      <td>0</td>\n",
       "      <td>Everyone</td>\n",
       "      <td>Art &amp; Design;Creativity</td>\n",
       "      <td>June 20, 2018</td>\n",
       "      <td>1.1</td>\n",
       "      <td>4.4 and up</td>\n",
       "    </tr>\n",
       "  </tbody>\n",
       "</table>\n",
       "</div>"
      ],
      "text/plain": [
       "                                                 App        Category  Rating  \\\n",
       "0     Photo Editor & Candy Camera & Grid & ScrapBook  ART_AND_DESIGN     4.1   \n",
       "1                                Coloring book moana  ART_AND_DESIGN     3.9   \n",
       "2  U Launcher Lite – FREE Live Cool Themes, Hide ...  ART_AND_DESIGN     4.7   \n",
       "3                              Sketch - Draw & Paint  ART_AND_DESIGN     4.5   \n",
       "4              Pixel Draw - Number Art Coloring Book  ART_AND_DESIGN     4.3   \n",
       "\n",
       "  Reviews  Size     Installs  Type Price Content Rating  \\\n",
       "0     159   19M      10,000+  Free     0       Everyone   \n",
       "1     967   14M     500,000+  Free     0       Everyone   \n",
       "2   87510  8.7M   5,000,000+  Free     0       Everyone   \n",
       "3  215644   25M  50,000,000+  Free     0           Teen   \n",
       "4     967  2.8M     100,000+  Free     0       Everyone   \n",
       "\n",
       "                      Genres      Last Updated         Current Ver  \\\n",
       "0               Art & Design   January 7, 2018               1.0.0   \n",
       "1  Art & Design;Pretend Play  January 15, 2018               2.0.0   \n",
       "2               Art & Design    August 1, 2018               1.2.4   \n",
       "3               Art & Design      June 8, 2018  Varies with device   \n",
       "4    Art & Design;Creativity     June 20, 2018                 1.1   \n",
       "\n",
       "    Android Ver  \n",
       "0  4.0.3 and up  \n",
       "1  4.0.3 and up  \n",
       "2  4.0.3 and up  \n",
       "3    4.2 and up  \n",
       "4    4.4 and up  "
      ]
     },
     "execution_count": 4,
     "metadata": {},
     "output_type": "execute_result"
    }
   ],
   "source": [
    "playstore = pd.read_csv('data/googleplaystore.csv')\n",
    "playstore.head()"
   ]
  },
  {
   "cell_type": "markdown",
   "metadata": {},
   "source": [
    "**Data Cleansing** "
   ]
  },
  {
   "cell_type": "markdown",
   "metadata": {},
   "source": [
    "**_Task 1:_** Hapus data yang duplikat berdasarkan kolom App, dengan tetap keep data pertama (hint : gunakan parameter subset)"
   ]
  },
  {
   "cell_type": "code",
   "execution_count": 5,
   "metadata": {
    "ExecuteTime": {
     "end_time": "2021-02-02T10:00:43.408513Z",
     "start_time": "2021-02-02T10:00:43.384541Z"
    }
   },
   "outputs": [],
   "source": [
    "playstore.drop_duplicates(subset='App', keep='first', inplace=True)"
   ]
  },
  {
   "cell_type": "markdown",
   "metadata": {},
   "source": [
    "Bagian ini untuk menghapus row 10472 karena nilai data tersebut tidak tersimpan pada kolom yang benar"
   ]
  },
  {
   "cell_type": "code",
   "execution_count": 6,
   "metadata": {
    "ExecuteTime": {
     "end_time": "2021-02-02T10:01:18.760162Z",
     "start_time": "2021-02-02T10:01:18.747974Z"
    }
   },
   "outputs": [],
   "source": [
    "playstore.drop([10472], inplace=True)"
   ]
  },
  {
   "cell_type": "markdown",
   "metadata": {},
   "source": [
    "**_Task 2:_** Cek tipe data kolom Category. Jika masih tersimpan dengan format tipe data yang salah, ubah ke tipe data yang sesuai\n"
   ]
  },
  {
   "cell_type": "code",
   "execution_count": 7,
   "metadata": {},
   "outputs": [
    {
     "data": {
      "text/plain": [
       "App                object\n",
       "Category           object\n",
       "Rating            float64\n",
       "Reviews            object\n",
       "Size               object\n",
       "Installs           object\n",
       "Type               object\n",
       "Price              object\n",
       "Content Rating     object\n",
       "Genres             object\n",
       "Last Updated       object\n",
       "Current Ver        object\n",
       "Android Ver        object\n",
       "dtype: object"
      ]
     },
     "execution_count": 7,
     "metadata": {},
     "output_type": "execute_result"
    }
   ],
   "source": [
    "playstore.dtypes"
   ]
  },
  {
   "cell_type": "code",
   "execution_count": 8,
   "metadata": {
    "ExecuteTime": {
     "end_time": "2021-02-02T10:03:32.164554Z",
     "start_time": "2021-02-02T10:03:32.153250Z"
    }
   },
   "outputs": [
    {
     "data": {
      "text/plain": [
       "App                 object\n",
       "Category          category\n",
       "Rating             float64\n",
       "Reviews             object\n",
       "Size                object\n",
       "Installs            object\n",
       "Type                object\n",
       "Price               object\n",
       "Content Rating      object\n",
       "Genres              object\n",
       "Last Updated        object\n",
       "Current Ver         object\n",
       "Android Ver         object\n",
       "dtype: object"
      ]
     },
     "execution_count": 8,
     "metadata": {},
     "output_type": "execute_result"
    }
   ],
   "source": [
    "playstore.Category = playstore.Category.astype('category')\n",
    "playstore.dtypes"
   ]
  },
  {
   "cell_type": "markdown",
   "metadata": {},
   "source": [
    "**_Task 3:_** Pada kolom Installs Buang tanda koma(,) dan tanda tambah(+) kemudian ubah tipe data menjadi integer"
   ]
  },
  {
   "cell_type": "code",
   "execution_count": 9,
   "metadata": {
    "ExecuteTime": {
     "end_time": "2021-02-02T10:16:20.985521Z",
     "start_time": "2021-02-02T10:16:20.969640Z"
    }
   },
   "outputs": [],
   "source": [
    "playstore.Installs = playstore.Installs.apply(lambda x: x.replace(',', ''))\n",
    "playstore.Installs = playstore.Installs.apply(lambda x: x.replace('+', ''))"
   ]
  },
  {
   "cell_type": "code",
   "execution_count": 10,
   "metadata": {},
   "outputs": [],
   "source": [
    "playstore.Installs = playstore.Installs.astype(int)"
   ]
  },
  {
   "cell_type": "code",
   "execution_count": 11,
   "metadata": {},
   "outputs": [
    {
     "data": {
      "text/plain": [
       "App                 object\n",
       "Category          category\n",
       "Rating             float64\n",
       "Reviews             object\n",
       "Size                object\n",
       "Installs             int32\n",
       "Type                object\n",
       "Price               object\n",
       "Content Rating      object\n",
       "Genres              object\n",
       "Last Updated        object\n",
       "Current Ver         object\n",
       "Android Ver         object\n",
       "dtype: object"
      ]
     },
     "execution_count": 11,
     "metadata": {},
     "output_type": "execute_result"
    }
   ],
   "source": [
    "playstore.dtypes"
   ]
  },
  {
   "cell_type": "markdown",
   "metadata": {},
   "source": [
    "Bagian ini untuk merapikan kolom Size, Anda tidak perlu mengubah apapun di bagian ini"
   ]
  },
  {
   "cell_type": "code",
   "execution_count": 12,
   "metadata": {
    "ExecuteTime": {
     "end_time": "2021-02-02T10:17:51.003771Z",
     "start_time": "2021-02-02T10:17:50.934201Z"
    }
   },
   "outputs": [],
   "source": [
    "playstore['Size'].replace('Varies with device', np.nan, inplace = True ) \n",
    "playstore.Size = (playstore.Size.replace(r'[kM]+$', '', regex=True).astype(float) * \\\n",
    "             playstore.Size.str.extract(r'[\\d\\.]+([kM]+)', expand=False)\n",
    "            .fillna(1)\n",
    "            .replace(['k','M'], [10**3, 10**6]).astype(int))\n",
    "playstore['Size'].fillna(playstore.groupby('Category')['Size'].transform('mean'),inplace = True)\n"
   ]
  },
  {
   "cell_type": "markdown",
   "metadata": {},
   "source": [
    "**_Task 4:_** Pada kolom Price, buang karakater $ pada nilai Price lalu ubah tipe datanya menjadi float"
   ]
  },
  {
   "cell_type": "code",
   "execution_count": 13,
   "metadata": {
    "ExecuteTime": {
     "end_time": "2021-02-02T10:17:51.850791Z",
     "start_time": "2021-02-02T10:17:51.831652Z"
    }
   },
   "outputs": [],
   "source": [
    "playstore['Price'] = playstore['Price'].apply(lambda x: x.replace('$', ''))\n",
    "playstore['Price'] = playstore['Price'].astype(float)\n"
   ]
  },
  {
   "cell_type": "markdown",
   "metadata": {},
   "source": [
    "Ubah tipe data Reviews, Size, Installs ke dalam tipe data integer"
   ]
  },
  {
   "cell_type": "code",
   "execution_count": 14,
   "metadata": {
    "ExecuteTime": {
     "end_time": "2021-02-02T10:17:53.379441Z",
     "start_time": "2021-02-02T10:17:53.359741Z"
    }
   },
   "outputs": [],
   "source": [
    "##code here\n",
    "playstore['Reviews'] = playstore['Reviews'].astype(int)\n",
    "playstore['Size'] = playstore['Size'].astype(int)\n",
    "playstore['Installs'] = playstore['Installs'].astype(int)\n"
   ]
  },
  {
   "cell_type": "markdown",
   "metadata": {},
   "source": [
    "## Data Wrangling"
   ]
  },
  {
   "cell_type": "code",
   "execution_count": 15,
   "metadata": {
    "ExecuteTime": {
     "end_time": "2021-02-02T10:18:50.436751Z",
     "start_time": "2021-02-02T10:18:50.425327Z"
    }
   },
   "outputs": [
    {
     "data": {
      "text/html": [
       "<div>\n",
       "<style scoped>\n",
       "    .dataframe tbody tr th:only-of-type {\n",
       "        vertical-align: middle;\n",
       "    }\n",
       "\n",
       "    .dataframe tbody tr th {\n",
       "        vertical-align: top;\n",
       "    }\n",
       "\n",
       "    .dataframe thead th {\n",
       "        text-align: right;\n",
       "    }\n",
       "</style>\n",
       "<table border=\"1\" class=\"dataframe\">\n",
       "  <thead>\n",
       "    <tr style=\"text-align: right;\">\n",
       "      <th></th>\n",
       "      <th>App</th>\n",
       "      <th>Category</th>\n",
       "      <th>Rating</th>\n",
       "      <th>Reviews</th>\n",
       "      <th>Size</th>\n",
       "      <th>Installs</th>\n",
       "      <th>Type</th>\n",
       "      <th>Price</th>\n",
       "      <th>Content Rating</th>\n",
       "      <th>Genres</th>\n",
       "      <th>Last Updated</th>\n",
       "      <th>Current Ver</th>\n",
       "      <th>Android Ver</th>\n",
       "    </tr>\n",
       "  </thead>\n",
       "  <tbody>\n",
       "    <tr>\n",
       "      <th>0</th>\n",
       "      <td>Photo Editor &amp; Candy Camera &amp; Grid &amp; ScrapBook</td>\n",
       "      <td>ART_AND_DESIGN</td>\n",
       "      <td>4.1</td>\n",
       "      <td>159</td>\n",
       "      <td>19000000</td>\n",
       "      <td>10000</td>\n",
       "      <td>Free</td>\n",
       "      <td>0.0</td>\n",
       "      <td>Everyone</td>\n",
       "      <td>Art &amp; Design</td>\n",
       "      <td>January 7, 2018</td>\n",
       "      <td>1.0.0</td>\n",
       "      <td>4.0.3 and up</td>\n",
       "    </tr>\n",
       "    <tr>\n",
       "      <th>1</th>\n",
       "      <td>Coloring book moana</td>\n",
       "      <td>ART_AND_DESIGN</td>\n",
       "      <td>3.9</td>\n",
       "      <td>967</td>\n",
       "      <td>14000000</td>\n",
       "      <td>500000</td>\n",
       "      <td>Free</td>\n",
       "      <td>0.0</td>\n",
       "      <td>Everyone</td>\n",
       "      <td>Art &amp; Design;Pretend Play</td>\n",
       "      <td>January 15, 2018</td>\n",
       "      <td>2.0.0</td>\n",
       "      <td>4.0.3 and up</td>\n",
       "    </tr>\n",
       "    <tr>\n",
       "      <th>2</th>\n",
       "      <td>U Launcher Lite – FREE Live Cool Themes, Hide ...</td>\n",
       "      <td>ART_AND_DESIGN</td>\n",
       "      <td>4.7</td>\n",
       "      <td>87510</td>\n",
       "      <td>8700000</td>\n",
       "      <td>5000000</td>\n",
       "      <td>Free</td>\n",
       "      <td>0.0</td>\n",
       "      <td>Everyone</td>\n",
       "      <td>Art &amp; Design</td>\n",
       "      <td>August 1, 2018</td>\n",
       "      <td>1.2.4</td>\n",
       "      <td>4.0.3 and up</td>\n",
       "    </tr>\n",
       "    <tr>\n",
       "      <th>3</th>\n",
       "      <td>Sketch - Draw &amp; Paint</td>\n",
       "      <td>ART_AND_DESIGN</td>\n",
       "      <td>4.5</td>\n",
       "      <td>215644</td>\n",
       "      <td>25000000</td>\n",
       "      <td>50000000</td>\n",
       "      <td>Free</td>\n",
       "      <td>0.0</td>\n",
       "      <td>Teen</td>\n",
       "      <td>Art &amp; Design</td>\n",
       "      <td>June 8, 2018</td>\n",
       "      <td>Varies with device</td>\n",
       "      <td>4.2 and up</td>\n",
       "    </tr>\n",
       "    <tr>\n",
       "      <th>4</th>\n",
       "      <td>Pixel Draw - Number Art Coloring Book</td>\n",
       "      <td>ART_AND_DESIGN</td>\n",
       "      <td>4.3</td>\n",
       "      <td>967</td>\n",
       "      <td>2800000</td>\n",
       "      <td>100000</td>\n",
       "      <td>Free</td>\n",
       "      <td>0.0</td>\n",
       "      <td>Everyone</td>\n",
       "      <td>Art &amp; Design;Creativity</td>\n",
       "      <td>June 20, 2018</td>\n",
       "      <td>1.1</td>\n",
       "      <td>4.4 and up</td>\n",
       "    </tr>\n",
       "  </tbody>\n",
       "</table>\n",
       "</div>"
      ],
      "text/plain": [
       "                                                 App        Category  Rating  \\\n",
       "0     Photo Editor & Candy Camera & Grid & ScrapBook  ART_AND_DESIGN     4.1   \n",
       "1                                Coloring book moana  ART_AND_DESIGN     3.9   \n",
       "2  U Launcher Lite – FREE Live Cool Themes, Hide ...  ART_AND_DESIGN     4.7   \n",
       "3                              Sketch - Draw & Paint  ART_AND_DESIGN     4.5   \n",
       "4              Pixel Draw - Number Art Coloring Book  ART_AND_DESIGN     4.3   \n",
       "\n",
       "   Reviews      Size  Installs  Type  Price Content Rating  \\\n",
       "0      159  19000000     10000  Free    0.0       Everyone   \n",
       "1      967  14000000    500000  Free    0.0       Everyone   \n",
       "2    87510   8700000   5000000  Free    0.0       Everyone   \n",
       "3   215644  25000000  50000000  Free    0.0           Teen   \n",
       "4      967   2800000    100000  Free    0.0       Everyone   \n",
       "\n",
       "                      Genres      Last Updated         Current Ver  \\\n",
       "0               Art & Design   January 7, 2018               1.0.0   \n",
       "1  Art & Design;Pretend Play  January 15, 2018               2.0.0   \n",
       "2               Art & Design    August 1, 2018               1.2.4   \n",
       "3               Art & Design      June 8, 2018  Varies with device   \n",
       "4    Art & Design;Creativity     June 20, 2018                 1.1   \n",
       "\n",
       "    Android Ver  \n",
       "0  4.0.3 and up  \n",
       "1  4.0.3 and up  \n",
       "2  4.0.3 and up  \n",
       "3    4.2 and up  \n",
       "4    4.4 and up  "
      ]
     },
     "execution_count": 15,
     "metadata": {},
     "output_type": "execute_result"
    }
   ],
   "source": [
    "df2 = playstore.copy()\n",
    "df2.head()"
   ]
  },
  {
   "cell_type": "markdown",
   "metadata": {},
   "source": [
    "**_Task 5:_** Dataframe top_category dibuat untuk menyimpan frekuensi aplikasi untuk setiap Category. \n",
    "Gunakan crosstab untuk menghitung frekuensi aplikasi di setiap category kemudian gunakan `Jumlah`\n",
    "sebagai nama kolom dan urutkan nilai frekuensi dari nilai yang paling banyak. Terakhir reset index dari dataframe top_category."
   ]
  },
  {
   "cell_type": "code",
   "execution_count": 16,
   "metadata": {
    "ExecuteTime": {
     "end_time": "2021-02-02T10:22:20.387102Z",
     "start_time": "2021-02-02T10:22:20.334148Z"
    }
   },
   "outputs": [],
   "source": [
    "top_category = pd.crosstab(index=df2['Category'], columns='Jumlah').sort_values(by='Jumlah', ascending=False).reset_index()"
   ]
  },
  {
   "cell_type": "code",
   "execution_count": 17,
   "metadata": {
    "ExecuteTime": {
     "end_time": "2021-02-02T10:24:18.993255Z",
     "start_time": "2021-02-02T10:24:18.969721Z"
    }
   },
   "outputs": [
    {
     "data": {
      "text/html": [
       "<div>\n",
       "<style scoped>\n",
       "    .dataframe tbody tr th:only-of-type {\n",
       "        vertical-align: middle;\n",
       "    }\n",
       "\n",
       "    .dataframe tbody tr th {\n",
       "        vertical-align: top;\n",
       "    }\n",
       "\n",
       "    .dataframe thead th {\n",
       "        text-align: right;\n",
       "    }\n",
       "</style>\n",
       "<table border=\"1\" class=\"dataframe\">\n",
       "  <thead>\n",
       "    <tr style=\"text-align: right;\">\n",
       "      <th>col_0</th>\n",
       "      <th>Category</th>\n",
       "      <th>Jumlah</th>\n",
       "    </tr>\n",
       "  </thead>\n",
       "  <tbody>\n",
       "    <tr>\n",
       "      <th>0</th>\n",
       "      <td>FAMILY</td>\n",
       "      <td>1832</td>\n",
       "    </tr>\n",
       "    <tr>\n",
       "      <th>1</th>\n",
       "      <td>GAME</td>\n",
       "      <td>959</td>\n",
       "    </tr>\n",
       "    <tr>\n",
       "      <th>2</th>\n",
       "      <td>TOOLS</td>\n",
       "      <td>827</td>\n",
       "    </tr>\n",
       "    <tr>\n",
       "      <th>3</th>\n",
       "      <td>BUSINESS</td>\n",
       "      <td>420</td>\n",
       "    </tr>\n",
       "    <tr>\n",
       "      <th>4</th>\n",
       "      <td>MEDICAL</td>\n",
       "      <td>395</td>\n",
       "    </tr>\n",
       "  </tbody>\n",
       "</table>\n",
       "</div>"
      ],
      "text/plain": [
       "col_0  Category  Jumlah\n",
       "0        FAMILY    1832\n",
       "1          GAME     959\n",
       "2         TOOLS     827\n",
       "3      BUSINESS     420\n",
       "4       MEDICAL     395"
      ]
     },
     "execution_count": 17,
     "metadata": {},
     "output_type": "execute_result"
    }
   ],
   "source": [
    "top_category.head()"
   ]
  },
  {
   "cell_type": "markdown",
   "metadata": {},
   "source": [
    "**_Task 6:_** Ini adalah bagian untuk melengkapi konten value box \n",
    "most category mengambil nama category paling banyak mengacu pada dataframe `top_category`\n",
    "total mengambil frekuensi/jumlah category paling banyak mengacu pada dataframe `top_category`"
   ]
  },
  {
   "cell_type": "code",
   "execution_count": 17,
   "metadata": {
    "ExecuteTime": {
     "end_time": "2021-02-02T10:25:55.268573Z",
     "start_time": "2021-02-02T10:25:55.257944Z"
    }
   },
   "outputs": [],
   "source": [
    "most_categories = top_category.loc[0, 'Category']\n",
    "total = top_category.loc[0, 'Jumlah']"
   ]
  },
  {
   "cell_type": "markdown",
   "metadata": {},
   "source": [
    "`rev_table` adalah tabel yang berisi 10 aplikasi yang paling banyak direview oleh pengguna.\n",
    "Silahkan melakukan agregasi data yang tepat menggunakan `groupby` untuk menampilkan 10 aplikasi yang diurutkan berdasarkan jumlah Review pengguna. \n",
    "\n",
    "Tabel yang ditampilkan terdiri dari 4 kolom yaitu nama Category, nama App, total Reviews, dan rata-rata Rating.\n",
    "Pindahkan kode wrangling yang disimpan dalam variable `rev_table` pada `blank code` yang telah di chaining dengan kode `.to_html`."
   ]
  },
  {
   "cell_type": "code",
   "execution_count": 19,
   "metadata": {},
   "outputs": [
    {
     "data": {
      "text/plain": [
       "App                 object\n",
       "Category          category\n",
       "Rating             float64\n",
       "Reviews              int32\n",
       "Size                 int32\n",
       "Installs             int32\n",
       "Type                object\n",
       "Price              float64\n",
       "Content Rating      object\n",
       "Genres              object\n",
       "Last Updated        object\n",
       "Current Ver         object\n",
       "Android Ver         object\n",
       "dtype: object"
      ]
     },
     "execution_count": 19,
     "metadata": {},
     "output_type": "execute_result"
    }
   ],
   "source": [
    "playstore.dtypes"
   ]
  },
  {
   "cell_type": "code",
   "execution_count": 24,
   "metadata": {},
   "outputs": [],
   "source": [
    "#YANG INI\n",
    "app_mean_rating = df2.groupby('App')['Rating'].mean().reset_index()\n",
    "app_total_reviews = df2.groupby(['Category', 'App'])['Reviews'].sum().reset_index().sort_values(by='Reviews', ascending=False)\n",
    "top_10_apps = app_total_reviews.head(10)\n",
    "top_10_apps = pd.merge(top_10_apps, app_mean_rating, on='App')\n",
    "\n"
   ]
  },
  {
   "cell_type": "code",
   "execution_count": 25,
   "metadata": {
    "ExecuteTime": {
     "end_time": "2021-02-02T10:32:27.727779Z",
     "start_time": "2021-02-02T10:32:24.299980Z"
    }
   },
   "outputs": [
    {
     "data": {
      "text/html": [
       "<div>\n",
       "<style scoped>\n",
       "    .dataframe tbody tr th:only-of-type {\n",
       "        vertical-align: middle;\n",
       "    }\n",
       "\n",
       "    .dataframe tbody tr th {\n",
       "        vertical-align: top;\n",
       "    }\n",
       "\n",
       "    .dataframe thead th {\n",
       "        text-align: right;\n",
       "    }\n",
       "</style>\n",
       "<table border=\"1\" class=\"dataframe\">\n",
       "  <thead>\n",
       "    <tr style=\"text-align: right;\">\n",
       "      <th></th>\n",
       "      <th>Category</th>\n",
       "      <th>App</th>\n",
       "      <th>Reviews</th>\n",
       "      <th>Rating</th>\n",
       "    </tr>\n",
       "  </thead>\n",
       "  <tbody>\n",
       "    <tr>\n",
       "      <th>0</th>\n",
       "      <td>SOCIAL</td>\n",
       "      <td>Facebook</td>\n",
       "      <td>78158306</td>\n",
       "      <td>4.1</td>\n",
       "    </tr>\n",
       "    <tr>\n",
       "      <th>1</th>\n",
       "      <td>COMMUNICATION</td>\n",
       "      <td>WhatsApp Messenger</td>\n",
       "      <td>69119316</td>\n",
       "      <td>4.4</td>\n",
       "    </tr>\n",
       "    <tr>\n",
       "      <th>2</th>\n",
       "      <td>SOCIAL</td>\n",
       "      <td>Instagram</td>\n",
       "      <td>66577313</td>\n",
       "      <td>4.5</td>\n",
       "    </tr>\n",
       "    <tr>\n",
       "      <th>3</th>\n",
       "      <td>COMMUNICATION</td>\n",
       "      <td>Messenger – Text and Video Chat for Free</td>\n",
       "      <td>56642847</td>\n",
       "      <td>4.0</td>\n",
       "    </tr>\n",
       "    <tr>\n",
       "      <th>4</th>\n",
       "      <td>GAME</td>\n",
       "      <td>Clash of Clans</td>\n",
       "      <td>44891723</td>\n",
       "      <td>4.6</td>\n",
       "    </tr>\n",
       "    <tr>\n",
       "      <th>5</th>\n",
       "      <td>TOOLS</td>\n",
       "      <td>Clean Master- Space Cleaner &amp; Antivirus</td>\n",
       "      <td>42916526</td>\n",
       "      <td>4.7</td>\n",
       "    </tr>\n",
       "    <tr>\n",
       "      <th>6</th>\n",
       "      <td>GAME</td>\n",
       "      <td>Subway Surfers</td>\n",
       "      <td>27722264</td>\n",
       "      <td>4.5</td>\n",
       "    </tr>\n",
       "    <tr>\n",
       "      <th>7</th>\n",
       "      <td>VIDEO_PLAYERS</td>\n",
       "      <td>YouTube</td>\n",
       "      <td>25655305</td>\n",
       "      <td>4.3</td>\n",
       "    </tr>\n",
       "    <tr>\n",
       "      <th>8</th>\n",
       "      <td>TOOLS</td>\n",
       "      <td>Security Master - Antivirus, VPN, AppLock, Boo...</td>\n",
       "      <td>24900999</td>\n",
       "      <td>4.7</td>\n",
       "    </tr>\n",
       "    <tr>\n",
       "      <th>9</th>\n",
       "      <td>GAME</td>\n",
       "      <td>Clash Royale</td>\n",
       "      <td>23133508</td>\n",
       "      <td>4.6</td>\n",
       "    </tr>\n",
       "  </tbody>\n",
       "</table>\n",
       "</div>"
      ],
      "text/plain": [
       "        Category                                                App   Reviews  \\\n",
       "0         SOCIAL                                           Facebook  78158306   \n",
       "1  COMMUNICATION                                 WhatsApp Messenger  69119316   \n",
       "2         SOCIAL                                          Instagram  66577313   \n",
       "3  COMMUNICATION           Messenger – Text and Video Chat for Free  56642847   \n",
       "4           GAME                                     Clash of Clans  44891723   \n",
       "5          TOOLS            Clean Master- Space Cleaner & Antivirus  42916526   \n",
       "6           GAME                                     Subway Surfers  27722264   \n",
       "7  VIDEO_PLAYERS                                            YouTube  25655305   \n",
       "8          TOOLS  Security Master - Antivirus, VPN, AppLock, Boo...  24900999   \n",
       "9           GAME                                       Clash Royale  23133508   \n",
       "\n",
       "   Rating  \n",
       "0     4.1  \n",
       "1     4.4  \n",
       "2     4.5  \n",
       "3     4.0  \n",
       "4     4.6  \n",
       "5     4.7  \n",
       "6     4.5  \n",
       "7     4.3  \n",
       "8     4.7  \n",
       "9     4.6  "
      ]
     },
     "execution_count": 25,
     "metadata": {},
     "output_type": "execute_result"
    }
   ],
   "source": [
    "rev_table = top_10_apps[['Category', 'App', 'Reviews', 'Rating']]\n",
    "rev_table.head(10)\n"
   ]
  },
  {
   "cell_type": "code",
   "execution_count": 29,
   "metadata": {},
   "outputs": [],
   "source": [
    "rev_table = top_10_apps[['Category', 'App', 'Reviews', 'Rating']]"
   ]
  },
  {
   "cell_type": "markdown",
   "metadata": {},
   "source": [
    "Apabila menuliskan kode program yang tepat maka hasil wrangling adalah sebagai berikut :"
   ]
  },
  {
   "cell_type": "code",
   "execution_count": 30,
   "metadata": {
    "ExecuteTime": {
     "end_time": "2021-02-02T10:32:37.483995Z",
     "start_time": "2021-02-02T10:32:37.467075Z"
    }
   },
   "outputs": [
    {
     "data": {
      "text/html": [
       "<div>\n",
       "<style scoped>\n",
       "    .dataframe tbody tr th:only-of-type {\n",
       "        vertical-align: middle;\n",
       "    }\n",
       "\n",
       "    .dataframe tbody tr th {\n",
       "        vertical-align: top;\n",
       "    }\n",
       "\n",
       "    .dataframe thead th {\n",
       "        text-align: right;\n",
       "    }\n",
       "</style>\n",
       "<table border=\"1\" class=\"dataframe\">\n",
       "  <thead>\n",
       "    <tr style=\"text-align: right;\">\n",
       "      <th></th>\n",
       "      <th>Category</th>\n",
       "      <th>App</th>\n",
       "      <th>Reviews</th>\n",
       "      <th>Rating</th>\n",
       "    </tr>\n",
       "  </thead>\n",
       "  <tbody>\n",
       "    <tr>\n",
       "      <th>0</th>\n",
       "      <td>SOCIAL</td>\n",
       "      <td>Facebook</td>\n",
       "      <td>78158306</td>\n",
       "      <td>4.1</td>\n",
       "    </tr>\n",
       "    <tr>\n",
       "      <th>1</th>\n",
       "      <td>COMMUNICATION</td>\n",
       "      <td>WhatsApp Messenger</td>\n",
       "      <td>69119316</td>\n",
       "      <td>4.4</td>\n",
       "    </tr>\n",
       "    <tr>\n",
       "      <th>2</th>\n",
       "      <td>SOCIAL</td>\n",
       "      <td>Instagram</td>\n",
       "      <td>66577313</td>\n",
       "      <td>4.5</td>\n",
       "    </tr>\n",
       "    <tr>\n",
       "      <th>3</th>\n",
       "      <td>COMMUNICATION</td>\n",
       "      <td>Messenger – Text and Video Chat for Free</td>\n",
       "      <td>56642847</td>\n",
       "      <td>4.0</td>\n",
       "    </tr>\n",
       "    <tr>\n",
       "      <th>4</th>\n",
       "      <td>GAME</td>\n",
       "      <td>Clash of Clans</td>\n",
       "      <td>44891723</td>\n",
       "      <td>4.6</td>\n",
       "    </tr>\n",
       "    <tr>\n",
       "      <th>5</th>\n",
       "      <td>TOOLS</td>\n",
       "      <td>Clean Master- Space Cleaner &amp; Antivirus</td>\n",
       "      <td>42916526</td>\n",
       "      <td>4.7</td>\n",
       "    </tr>\n",
       "    <tr>\n",
       "      <th>6</th>\n",
       "      <td>GAME</td>\n",
       "      <td>Subway Surfers</td>\n",
       "      <td>27722264</td>\n",
       "      <td>4.5</td>\n",
       "    </tr>\n",
       "    <tr>\n",
       "      <th>7</th>\n",
       "      <td>VIDEO_PLAYERS</td>\n",
       "      <td>YouTube</td>\n",
       "      <td>25655305</td>\n",
       "      <td>4.3</td>\n",
       "    </tr>\n",
       "    <tr>\n",
       "      <th>8</th>\n",
       "      <td>TOOLS</td>\n",
       "      <td>Security Master - Antivirus, VPN, AppLock, Boo...</td>\n",
       "      <td>24900999</td>\n",
       "      <td>4.7</td>\n",
       "    </tr>\n",
       "    <tr>\n",
       "      <th>9</th>\n",
       "      <td>GAME</td>\n",
       "      <td>Clash Royale</td>\n",
       "      <td>23133508</td>\n",
       "      <td>4.6</td>\n",
       "    </tr>\n",
       "  </tbody>\n",
       "</table>\n",
       "</div>"
      ],
      "text/plain": [
       "        Category                                                App   Reviews  \\\n",
       "0         SOCIAL                                           Facebook  78158306   \n",
       "1  COMMUNICATION                                 WhatsApp Messenger  69119316   \n",
       "2         SOCIAL                                          Instagram  66577313   \n",
       "3  COMMUNICATION           Messenger – Text and Video Chat for Free  56642847   \n",
       "4           GAME                                     Clash of Clans  44891723   \n",
       "5          TOOLS            Clean Master- Space Cleaner & Antivirus  42916526   \n",
       "6           GAME                                     Subway Surfers  27722264   \n",
       "7  VIDEO_PLAYERS                                            YouTube  25655305   \n",
       "8          TOOLS  Security Master - Antivirus, VPN, AppLock, Boo...  24900999   \n",
       "9           GAME                                       Clash Royale  23133508   \n",
       "\n",
       "   Rating  \n",
       "0     4.1  \n",
       "1     4.4  \n",
       "2     4.5  \n",
       "3     4.0  \n",
       "4     4.6  \n",
       "5     4.7  \n",
       "6     4.5  \n",
       "7     4.3  \n",
       "8     4.7  \n",
       "9     4.6  "
      ]
     },
     "execution_count": 30,
     "metadata": {},
     "output_type": "execute_result"
    }
   ],
   "source": [
    "rev_table"
   ]
  },
  {
   "cell_type": "markdown",
   "metadata": {},
   "source": [
    "## Data Visualization"
   ]
  },
  {
   "cell_type": "markdown",
   "metadata": {},
   "source": [
    "**Membuat Bar Plot**"
   ]
  },
  {
   "cell_type": "markdown",
   "metadata": {},
   "source": [
    "**_Task 7:_** \n",
    "Lengkapi tahap agregasi untuk membuat dataframe yang mengelompokkan aplikasi berdasarkan Category.\n",
    "Buatlah bar plot dimana axis x adalah nama Category dan axis y adalah jumlah aplikasi pada setiap kategori, kemudian urutkan dari jumlah terbanyak"
   ]
  },
  {
   "cell_type": "code",
   "execution_count": 31,
   "metadata": {},
   "outputs": [
    {
     "data": {
      "image/png": "[encoded data removed]",
      "text/plain": [
       "<Figure size 2400x900 with 1 Axes>"
      ]
     },
     "metadata": {},
     "output_type": "display_data"
    }
   ],
   "source": [
    "cat_order = df2.groupby('Category').agg({\n",
    "'Category': 'count'\n",
    " }).rename({'Category':'Total'}, axis=1).sort_values('Total', ascending=False).head()\n",
    "X = cat_order.index\n",
    "Y = cat_order['Total']\n",
    "my_colors = ['r','g','b','k','y','m','c']\n",
    "# bagian ini digunakan untuk membuat kanvas/figure\n",
    "fig = plt.figure(figsize=(8,3),dpi=300)\n",
    "fig.add_subplot()\n",
    "# bagian ini digunakan untuk membuat bar plot\n",
    "plt.barh(X, Y, color=my_colors)\n",
    "# bagian ini digunakan untuk menyimpan plot dalam format image.png\n",
    "plt.savefig('cat_order.png',bbox_inches=\"tight\") "
   ]
  },
  {
   "cell_type": "markdown",
   "metadata": {},
   "source": [
    "**Membuat Scatter Plot**"
   ]
  },
  {
   "cell_type": "markdown",
   "metadata": {},
   "source": [
    "**_Task 8:_** Buatlah scatter plot untuk menampilkan hubungan dan persebaran apalikasi dilihat dari Review vs Rating.\n",
    "Ukuran scatter menggambarkan berapa banyak pengguna yang telah menginstall aplikasi \n",
    "    "
   ]
  },
  {
   "cell_type": "code",
   "execution_count": 32,
   "metadata": {},
   "outputs": [
    {
     "data": {
      "image/png": "[encoded data removed]",
      "text/plain": [
       "<Figure size 500x500 with 1 Axes>"
      ]
     },
     "metadata": {},
     "output_type": "display_data"
    }
   ],
   "source": [
    "X = df2['Reviews'].values # axis x\n",
    "Y = df2['Rating'].values # axis y\n",
    "area = playstore['Installs'].values/10000000 # ukuran besar/kecilnya lingkaran scatter plot\n",
    "fig = plt.figure(figsize=(5,5))\n",
    "fig.add_subplot()\n",
    "# isi nama method untuk scatter plot, variabel x, dan variabel y\n",
    "plt.scatter(x=X,y=Y, s=area, alpha=0.3)\n",
    "plt.xlabel('Reviews')\n",
    "plt.ylabel('Rating')\n",
    "plt.savefig('rev_rat.png',bbox_inches=\"tight\")"
   ]
  },
  {
   "cell_type": "markdown",
   "metadata": {},
   "source": [
    "**Membuat Histogram Size Distribution**"
   ]
  },
  {
   "cell_type": "markdown",
   "metadata": {},
   "source": [
    "**_Task 9:_** Buatlah sebuah histogram yang menggambarkan distribusi Size aplikasi dalam satuan Mb(Megabytes). Histogram yang terbentuk terbagi menjadi 100 bins"
   ]
  },
  {
   "cell_type": "code",
   "execution_count": 33,
   "metadata": {},
   "outputs": [
    {
     "data": {
      "image/png": "[encoded data removed]",
      "text/plain": [
       "<Figure size 500x500 with 1 Axes>"
      ]
     },
     "metadata": {},
     "output_type": "display_data"
    }
   ],
   "source": [
    "X=(df2['Size']/1000000).values\n",
    "fig = plt.figure(figsize=(5,5))\n",
    "fig.add_subplot()\n",
    "plt.hist(X,bins=100, density=True,  alpha=0.75)\n",
    "plt.xlabel('Size')\n",
    "plt.ylabel('Frequency')\n",
    "plt.savefig('hist_size.png',bbox_inches=\"tight\")"
   ]
  },
  {
   "cell_type": "markdown",
   "metadata": {},
   "source": [
    "**_Task 10:_** Buatlah plot berdasarkan hasil analisis anda. Plot yang dibuat tidak diperbolehkan sama dengan plot yang sudah dicontohkan."
   ]
  },
  {
   "cell_type": "code",
   "execution_count": 34,
   "metadata": {
    "ExecuteTime": {
     "end_time": "2021-02-02T10:47:53.948656Z",
     "start_time": "2021-02-02T10:47:53.936544Z"
    }
   },
   "outputs": [
    {
     "data": {
      "image/png": "[encoded data removed]",
      "text/plain": [
       "<Figure size 500x500 with 1 Axes>"
      ]
     },
     "metadata": {},
     "output_type": "display_data"
    }
   ],
   "source": [
    "## code here\n",
    "df_game = df2[df2['Category'] == 'GAME']\n",
    "X = df_game['Reviews'].values\n",
    "Y = df_game['Rating'].values\n",
    "area = df_game['Installs'].values/10000000\n",
    "\n",
    "fig = plt.figure(figsize=(5,5))\n",
    "fig.add_subplot()\n",
    "\n",
    "plt.scatter(x=X, y=Y, s=area, alpha=0.3)\n",
    "plt.xlabel('Reviews')\n",
    "plt.ylabel('Rating')\n",
    "plt.title('Hubungan antara Jumlah Review dan Rating Aplikasi GAME')\n",
    "plt.savefig('game_review_rating.png', bbox_inches=\"tight\")\n",
    "\n"
   ]
  },
  {
   "attachments": {},
   "cell_type": "markdown",
   "metadata": {},
   "source": [
    " Plot di atas adalah eksplorasi hubungan antara jumlah Review dan Rating aplikasi dalam kategori 'GAME'\n",
    "\n",
    " Interpretasi:\n",
    " Aplikasi GAME dengan jumlah Review yang lebih rendah, namun Rating-nya cukup tinggi. Dari sini, dapat diketahui bahwa jumlah Review saja tidak cukup untuk menentukan Rating suatu aplikasi. Terdapat faktor lain seperti kualitas game dan fitur yang menjadi penentu Rating yang diberikan oleh pengguna.\n",
    "\n",
    "Selain itu, terlihat juga bahwa ada beberapa aplikasi GAME yang memiliki jumlah Review dan Rating yang tinggi. Hal ini menunjukkan bahwa aplikasi tersebut sangat populer dan memiliki kualitas yang baik. Hal ini dapat menjadi referensi bagi pengembang untuk menciptakan aplikasi GAME yang sukses."
   ]
  }
 ],
 "metadata": {
  "kernelspec": {
   "display_name": "capstone-flask",
   "language": "python",
   "name": "python3"
  },
  "language_info": {
   "codemirror_mode": {
    "name": "ipython",
    "version": 3
   },
   "file_extension": ".py",
   "mimetype": "text/x-python",
   "name": "python",
   "nbconvert_exporter": "python",
   "pygments_lexer": "ipython3",
   "version": "3.10.10"
  },
  "toc": {
   "base_numbering": 1,
   "nav_menu": {},
   "number_sections": true,
   "sideBar": true,
   "skip_h1_title": false,
   "title_cell": "Table of Contents",
   "title_sidebar": "Contents",
   "toc_cell": false,
   "toc_position": {},
   "toc_section_display": true,
   "toc_window_display": false
  }
 },
 "nbformat": 4,
 "nbformat_minor": 4
}
